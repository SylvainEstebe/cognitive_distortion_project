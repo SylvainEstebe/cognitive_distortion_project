{
 "cells": [
  {
   "cell_type": "markdown",
   "metadata": {},
   "source": [
    "# import\n"
   ]
  },
  {
   "cell_type": "code",
   "execution_count": 33,
   "metadata": {},
   "outputs": [],
   "source": [
    "from embetter.text import SentenceEncoder\n",
    "import pandas as pd\n",
    "from embedding_explorer import show_network_explorer\n",
    "import numpy as np\n",
    "from embedding_explorer import show_clustering\n",
    "from sentence_transformers import SentenceTransformer, util\n",
    "\n"
   ]
  },
  {
   "cell_type": "markdown",
   "metadata": {},
   "source": [
    "# Pre-processing data"
   ]
  },
  {
   "cell_type": "code",
   "execution_count": 34,
   "metadata": {},
   "outputs": [],
   "source": [
    "# Creation of a dataframe to stock data after\n",
    "data_frame = pd.DataFrame( {'thought': [], 'orignal_label': [], 'embeding': [], 'cluster': [], 'new_label': []})\n"
   ]
  },
  {
   "cell_type": "code",
   "execution_count": 35,
   "metadata": {},
   "outputs": [
    {
     "data": {
      "text/html": [
       "<div>\n",
       "<style scoped>\n",
       "    .dataframe tbody tr th:only-of-type {\n",
       "        vertical-align: middle;\n",
       "    }\n",
       "\n",
       "    .dataframe tbody tr th {\n",
       "        vertical-align: top;\n",
       "    }\n",
       "\n",
       "    .dataframe thead th {\n",
       "        text-align: right;\n",
       "    }\n",
       "</style>\n",
       "<table border=\"1\" class=\"dataframe\">\n",
       "  <thead>\n",
       "    <tr style=\"text-align: right;\">\n",
       "      <th></th>\n",
       "      <th>thought</th>\n",
       "      <th>orignal_label</th>\n",
       "      <th>embeding</th>\n",
       "      <th>cluster</th>\n",
       "      <th>new_label</th>\n",
       "    </tr>\n",
       "  </thead>\n",
       "  <tbody>\n",
       "    <tr>\n",
       "      <th>0</th>\n",
       "      <td>Someone I trusted stole something valuable of ...</td>\n",
       "      <td>emotional reasoning</td>\n",
       "      <td>NaN</td>\n",
       "      <td>NaN</td>\n",
       "      <td>NaN</td>\n",
       "    </tr>\n",
       "    <tr>\n",
       "      <th>2</th>\n",
       "      <td>She doesn't respect me.</td>\n",
       "      <td>overgeneralizing</td>\n",
       "      <td>NaN</td>\n",
       "      <td>NaN</td>\n",
       "      <td>NaN</td>\n",
       "    </tr>\n",
       "    <tr>\n",
       "      <th>4</th>\n",
       "      <td>My friend is ignoring his recently-deceased wife.</td>\n",
       "      <td>disqualifying the positive</td>\n",
       "      <td>NaN</td>\n",
       "      <td>NaN</td>\n",
       "      <td>NaN</td>\n",
       "    </tr>\n",
       "    <tr>\n",
       "      <th>5</th>\n",
       "      <td>My friend is ignoring his recently-deceased wife.</td>\n",
       "      <td>mind reading</td>\n",
       "      <td>NaN</td>\n",
       "      <td>NaN</td>\n",
       "      <td>NaN</td>\n",
       "    </tr>\n",
       "    <tr>\n",
       "      <th>6</th>\n",
       "      <td>he took me for granted!</td>\n",
       "      <td>labeling,catastrophizing</td>\n",
       "      <td>NaN</td>\n",
       "      <td>NaN</td>\n",
       "      <td>NaN</td>\n",
       "    </tr>\n",
       "    <tr>\n",
       "      <th>...</th>\n",
       "      <td>...</td>\n",
       "      <td>...</td>\n",
       "      <td>...</td>\n",
       "      <td>...</td>\n",
       "      <td>...</td>\n",
       "    </tr>\n",
       "    <tr>\n",
       "      <th>592</th>\n",
       "      <td>I'm so exhausted</td>\n",
       "      <td>negative feeling or emotion</td>\n",
       "      <td>NaN</td>\n",
       "      <td>NaN</td>\n",
       "      <td>NaN</td>\n",
       "    </tr>\n",
       "    <tr>\n",
       "      <th>594</th>\n",
       "      <td>ill never be able to find a good job</td>\n",
       "      <td>fortune telling,catastrophizing</td>\n",
       "      <td>NaN</td>\n",
       "      <td>NaN</td>\n",
       "      <td>NaN</td>\n",
       "    </tr>\n",
       "    <tr>\n",
       "      <th>596</th>\n",
       "      <td>I am being disrespected</td>\n",
       "      <td>labeling,disqualifying the positive,negative f...</td>\n",
       "      <td>NaN</td>\n",
       "      <td>NaN</td>\n",
       "      <td>NaN</td>\n",
       "    </tr>\n",
       "    <tr>\n",
       "      <th>598</th>\n",
       "      <td>maybe she doesn't like me anymore.</td>\n",
       "      <td>mind reading</td>\n",
       "      <td>NaN</td>\n",
       "      <td>NaN</td>\n",
       "      <td>NaN</td>\n",
       "    </tr>\n",
       "    <tr>\n",
       "      <th>599</th>\n",
       "      <td>maybe she doesn't like me anymore.</td>\n",
       "      <td>personalizing</td>\n",
       "      <td>NaN</td>\n",
       "      <td>NaN</td>\n",
       "      <td>NaN</td>\n",
       "    </tr>\n",
       "  </tbody>\n",
       "</table>\n",
       "<p>474 rows × 5 columns</p>\n",
       "</div>"
      ],
      "text/plain": [
       "                                               thought  \\\n",
       "0    Someone I trusted stole something valuable of ...   \n",
       "2                              She doesn't respect me.   \n",
       "4    My friend is ignoring his recently-deceased wife.   \n",
       "5    My friend is ignoring his recently-deceased wife.   \n",
       "6                              he took me for granted!   \n",
       "..                                                 ...   \n",
       "592                                   I'm so exhausted   \n",
       "594               ill never be able to find a good job   \n",
       "596                            I am being disrespected   \n",
       "598                 maybe she doesn't like me anymore.   \n",
       "599                 maybe she doesn't like me anymore.   \n",
       "\n",
       "                                         orignal_label  embeding  cluster  \\\n",
       "0                                  emotional reasoning       NaN      NaN   \n",
       "2                                     overgeneralizing       NaN      NaN   \n",
       "4                           disqualifying the positive       NaN      NaN   \n",
       "5                                         mind reading       NaN      NaN   \n",
       "6                             labeling,catastrophizing       NaN      NaN   \n",
       "..                                                 ...       ...      ...   \n",
       "592                        negative feeling or emotion       NaN      NaN   \n",
       "594                    fortune telling,catastrophizing       NaN      NaN   \n",
       "596  labeling,disqualifying the positive,negative f...       NaN      NaN   \n",
       "598                                       mind reading       NaN      NaN   \n",
       "599                                      personalizing       NaN      NaN   \n",
       "\n",
       "     new_label  \n",
       "0          NaN  \n",
       "2          NaN  \n",
       "4          NaN  \n",
       "5          NaN  \n",
       "6          NaN  \n",
       "..         ...  \n",
       "592        NaN  \n",
       "594        NaN  \n",
       "596        NaN  \n",
       "598        NaN  \n",
       "599        NaN  \n",
       "\n",
       "[474 rows x 5 columns]"
      ]
     },
     "execution_count": 35,
     "metadata": {},
     "output_type": "execute_result"
    }
   ],
   "source": [
    "# reframing_dataset\n",
    "neg_thought = []\n",
    "\n",
    "# read the dataset and take just the negative thought and the label\n",
    "data = pd.read_csv(\"/Users/sylvainestebe/Code/nlp_project/cognitive_distortion_project/data/reframing_dataset.csv\")\n",
    "data = pd.read_csv(\"/Users/sylvainestebe/Code/nlp_project/cognitive_distortion_project/data/reframing_dataset.csv\")\n",
    "data_frame[\"thought\"] = data[\"thought\"]\n",
    "data_frame[\"orignal_label\"] = data[\"thinking_traps_addressed\"]\n",
    "data_frame = data_frame.drop_duplicates()\n",
    "data_frame\n"
   ]
  },
  {
   "cell_type": "code",
   "execution_count": 36,
   "metadata": {},
   "outputs": [
    {
     "data": {
      "text/html": [
       "<div>\n",
       "<style scoped>\n",
       "    .dataframe tbody tr th:only-of-type {\n",
       "        vertical-align: middle;\n",
       "    }\n",
       "\n",
       "    .dataframe tbody tr th {\n",
       "        vertical-align: top;\n",
       "    }\n",
       "\n",
       "    .dataframe thead th {\n",
       "        text-align: right;\n",
       "    }\n",
       "</style>\n",
       "<table border=\"1\" class=\"dataframe\">\n",
       "  <thead>\n",
       "    <tr style=\"text-align: right;\">\n",
       "      <th></th>\n",
       "      <th>thought</th>\n",
       "      <th>orignal_label</th>\n",
       "    </tr>\n",
       "  </thead>\n",
       "  <tbody>\n",
       "    <tr>\n",
       "      <th>0</th>\n",
       "      <td>I'm always late</td>\n",
       "      <td>Overgeneralization</td>\n",
       "    </tr>\n",
       "    <tr>\n",
       "      <th>1</th>\n",
       "      <td>I'm late for the meeting. Everyone will look d...</td>\n",
       "      <td>Mind reading</td>\n",
       "    </tr>\n",
       "    <tr>\n",
       "      <th>2</th>\n",
       "      <td>I'm late for the meeting. Everyone will look d...</td>\n",
       "      <td>Fortune telling</td>\n",
       "    </tr>\n",
       "    <tr>\n",
       "      <th>3</th>\n",
       "      <td>I'm late for the meeting. This shows what a je...</td>\n",
       "      <td>Labeling</td>\n",
       "    </tr>\n",
       "    <tr>\n",
       "      <th>4</th>\n",
       "      <td>I'm late for the meeting. I'll make a fool of ...</td>\n",
       "      <td>Labeling</td>\n",
       "    </tr>\n",
       "    <tr>\n",
       "      <th>...</th>\n",
       "      <td>...</td>\n",
       "      <td>...</td>\n",
       "    </tr>\n",
       "    <tr>\n",
       "      <th>1072</th>\n",
       "      <td>Not having made rent and having to borrow mone...</td>\n",
       "      <td>Labeling</td>\n",
       "    </tr>\n",
       "    <tr>\n",
       "      <th>1073</th>\n",
       "      <td>I’m a loser I hate myself and I’m ready to die</td>\n",
       "      <td>Labeling</td>\n",
       "    </tr>\n",
       "    <tr>\n",
       "      <th>1074</th>\n",
       "      <td>People around me do not need my presence I'm w...</td>\n",
       "      <td>Emotional reasoning</td>\n",
       "    </tr>\n",
       "    <tr>\n",
       "      <th>1075</th>\n",
       "      <td>I realize that I still don’t have anyone who I...</td>\n",
       "      <td>Overgeneralizing</td>\n",
       "    </tr>\n",
       "    <tr>\n",
       "      <th>1076</th>\n",
       "      <td>People are always bullying me Everyone hates me</td>\n",
       "      <td>Overgeneralizing</td>\n",
       "    </tr>\n",
       "  </tbody>\n",
       "</table>\n",
       "<p>1077 rows × 2 columns</p>\n",
       "</div>"
      ],
      "text/plain": [
       "                                                thought         orignal_label\n",
       "0                                      I'm always late     Overgeneralization\n",
       "1     I'm late for the meeting. Everyone will look d...          Mind reading\n",
       "2     I'm late for the meeting. Everyone will look d...       Fortune telling\n",
       "3     I'm late for the meeting. This shows what a je...              Labeling\n",
       "4     I'm late for the meeting. I'll make a fool of ...              Labeling\n",
       "...                                                 ...                   ...\n",
       "1072  Not having made rent and having to borrow mone...              Labeling\n",
       "1073    I’m a loser I hate myself and I’m ready to die               Labeling\n",
       "1074  People around me do not need my presence I'm w...   Emotional reasoning\n",
       "1075  I realize that I still don’t have anyone who I...      Overgeneralizing\n",
       "1076   People are always bullying me Everyone hates me       Overgeneralizing\n",
       "\n",
       "[1077 rows x 2 columns]"
      ]
     },
     "execution_count": 36,
     "metadata": {},
     "output_type": "execute_result"
    }
   ],
   "source": [
    "# read the dataset and rename the colonne\n",
    "with open('/Users/sylvainestebe/Code/nlp_project/cognitive_distortion_project/data/thinking_traps.jsonl') as f:\n",
    "    df = pd.read_json(f, lines=True)\n",
    "    df = df.rename(columns={\"completion\": \"orignal_label\",\"prompt\": \"thought\"})\n",
    "\n",
    "# replace  arrow with splace\n",
    "for i in range(len(df)):\n",
    "\n",
    "    df[\"thought\"][i] = df[\"thought\"][i].replace(\"->\", \"\")\n",
    "\n",
    "# remove the duplicates\n",
    "\n",
    "df = df.drop_duplicates()\n",
    "df"
   ]
  },
  {
   "cell_type": "code",
   "execution_count": 37,
   "metadata": {},
   "outputs": [
    {
     "name": "stderr",
     "output_type": "stream",
     "text": [
      "/var/folders/td/5r8mr8t14cn_c4w5c8ty48lw0000gn/T/ipykernel_56482/2959235978.py:1: FutureWarning:\n",
      "\n",
      "The frame.append method is deprecated and will be removed from pandas in a future version. Use pandas.concat instead.\n",
      "\n"
     ]
    },
    {
     "data": {
      "text/html": [
       "<div>\n",
       "<style scoped>\n",
       "    .dataframe tbody tr th:only-of-type {\n",
       "        vertical-align: middle;\n",
       "    }\n",
       "\n",
       "    .dataframe tbody tr th {\n",
       "        vertical-align: top;\n",
       "    }\n",
       "\n",
       "    .dataframe thead th {\n",
       "        text-align: right;\n",
       "    }\n",
       "</style>\n",
       "<table border=\"1\" class=\"dataframe\">\n",
       "  <thead>\n",
       "    <tr style=\"text-align: right;\">\n",
       "      <th></th>\n",
       "      <th>thought</th>\n",
       "      <th>orignal_label</th>\n",
       "      <th>embeding</th>\n",
       "      <th>cluster</th>\n",
       "      <th>new_label</th>\n",
       "    </tr>\n",
       "  </thead>\n",
       "  <tbody>\n",
       "    <tr>\n",
       "      <th>0</th>\n",
       "      <td>Someone I trusted stole something valuable of ...</td>\n",
       "      <td>emotional reasoning</td>\n",
       "      <td>NaN</td>\n",
       "      <td>NaN</td>\n",
       "      <td>NaN</td>\n",
       "    </tr>\n",
       "    <tr>\n",
       "      <th>1</th>\n",
       "      <td>She doesn't respect me.</td>\n",
       "      <td>overgeneralizing</td>\n",
       "      <td>NaN</td>\n",
       "      <td>NaN</td>\n",
       "      <td>NaN</td>\n",
       "    </tr>\n",
       "    <tr>\n",
       "      <th>2</th>\n",
       "      <td>My friend is ignoring his recently-deceased wife.</td>\n",
       "      <td>disqualifying the positive</td>\n",
       "      <td>NaN</td>\n",
       "      <td>NaN</td>\n",
       "      <td>NaN</td>\n",
       "    </tr>\n",
       "    <tr>\n",
       "      <th>3</th>\n",
       "      <td>he took me for granted!</td>\n",
       "      <td>labeling,catastrophizing</td>\n",
       "      <td>NaN</td>\n",
       "      <td>NaN</td>\n",
       "      <td>NaN</td>\n",
       "    </tr>\n",
       "    <tr>\n",
       "      <th>4</th>\n",
       "      <td>We will not be able to complete the work that ...</td>\n",
       "      <td>catastrophizing</td>\n",
       "      <td>NaN</td>\n",
       "      <td>NaN</td>\n",
       "      <td>NaN</td>\n",
       "    </tr>\n",
       "    <tr>\n",
       "      <th>...</th>\n",
       "      <td>...</td>\n",
       "      <td>...</td>\n",
       "      <td>...</td>\n",
       "      <td>...</td>\n",
       "      <td>...</td>\n",
       "    </tr>\n",
       "    <tr>\n",
       "      <th>979</th>\n",
       "      <td>Not having made rent and having to borrow mone...</td>\n",
       "      <td>Labeling</td>\n",
       "      <td>NaN</td>\n",
       "      <td>NaN</td>\n",
       "      <td>NaN</td>\n",
       "    </tr>\n",
       "    <tr>\n",
       "      <th>980</th>\n",
       "      <td>I’m a loser I hate myself and I’m ready to die</td>\n",
       "      <td>Labeling</td>\n",
       "      <td>NaN</td>\n",
       "      <td>NaN</td>\n",
       "      <td>NaN</td>\n",
       "    </tr>\n",
       "    <tr>\n",
       "      <th>981</th>\n",
       "      <td>People around me do not need my presence I'm w...</td>\n",
       "      <td>Emotional reasoning</td>\n",
       "      <td>NaN</td>\n",
       "      <td>NaN</td>\n",
       "      <td>NaN</td>\n",
       "    </tr>\n",
       "    <tr>\n",
       "      <th>982</th>\n",
       "      <td>I realize that I still don’t have anyone who I...</td>\n",
       "      <td>Overgeneralizing</td>\n",
       "      <td>NaN</td>\n",
       "      <td>NaN</td>\n",
       "      <td>NaN</td>\n",
       "    </tr>\n",
       "    <tr>\n",
       "      <th>983</th>\n",
       "      <td>People are always bullying me Everyone hates me</td>\n",
       "      <td>Overgeneralizing</td>\n",
       "      <td>NaN</td>\n",
       "      <td>NaN</td>\n",
       "      <td>NaN</td>\n",
       "    </tr>\n",
       "  </tbody>\n",
       "</table>\n",
       "<p>984 rows × 5 columns</p>\n",
       "</div>"
      ],
      "text/plain": [
       "                                               thought  \\\n",
       "0    Someone I trusted stole something valuable of ...   \n",
       "1                              She doesn't respect me.   \n",
       "2    My friend is ignoring his recently-deceased wife.   \n",
       "3                              he took me for granted!   \n",
       "4    We will not be able to complete the work that ...   \n",
       "..                                                 ...   \n",
       "979  Not having made rent and having to borrow mone...   \n",
       "980    I’m a loser I hate myself and I’m ready to die    \n",
       "981  People around me do not need my presence I'm w...   \n",
       "982  I realize that I still don’t have anyone who I...   \n",
       "983   People are always bullying me Everyone hates me    \n",
       "\n",
       "                  orignal_label  embeding  cluster  new_label  \n",
       "0           emotional reasoning       NaN      NaN        NaN  \n",
       "1              overgeneralizing       NaN      NaN        NaN  \n",
       "2    disqualifying the positive       NaN      NaN        NaN  \n",
       "3      labeling,catastrophizing       NaN      NaN        NaN  \n",
       "4               catastrophizing       NaN      NaN        NaN  \n",
       "..                          ...       ...      ...        ...  \n",
       "979                    Labeling       NaN      NaN        NaN  \n",
       "980                    Labeling       NaN      NaN        NaN  \n",
       "981         Emotional reasoning       NaN      NaN        NaN  \n",
       "982            Overgeneralizing       NaN      NaN        NaN  \n",
       "983            Overgeneralizing       NaN      NaN        NaN  \n",
       "\n",
       "[984 rows x 5 columns]"
      ]
     },
     "execution_count": 37,
     "metadata": {},
     "output_type": "execute_result"
    }
   ],
   "source": [
    "corpus_data_xp = data_frame.append(df,ignore_index=True)\n",
    "corpus_data = corpus_data_xp.drop_duplicates(subset=\"thought\")\n",
    "corpus_data = corpus_data.reset_index(drop=True)\n",
    "corpus_data"
   ]
  },
  {
   "cell_type": "code",
   "execution_count": 38,
   "metadata": {},
   "outputs": [],
   "source": [
    "# Inspired from : https://centre-for-humanities-computing.github.io/embedding-explorer/projection_clustering.html\n",
    "\n",
    "corpus = corpus_data.thought\n",
    "\n",
    "# Extracting text lengths in number of characters.\n",
    "lengths = [len(text) for text in corpus]\n",
    "\n",
    "# Extracting first 400 characters from each text.\n",
    "text_starts = [text[:100] for text in corpus]\n",
    "\n",
    "# need to understand better this part\n",
    "group_labels = np.array(corpus_data.index)[corpus_data.index]\n",
    "\n",
    "# We build a dataframe with the available metadata\n",
    "metadata = pd.DataFrame(dict(length=lengths, text=text_starts, group=group_labels))"
   ]
  },
  {
   "cell_type": "markdown",
   "metadata": {},
   "source": [
    "# Sentence embeding approach transformer"
   ]
  },
  {
   "cell_type": "code",
   "execution_count": 42,
   "metadata": {},
   "outputs": [],
   "source": [
    "embedder = SentenceTransformer('all-mpnet-base-v2')\n",
    "embeddings = embedder.encode(corpus_data['thought'])\n"
   ]
  },
  {
   "cell_type": "code",
   "execution_count": null,
   "metadata": {},
   "outputs": [
    {
     "name": "stdout",
     "output_type": "stream",
     "text": [
      "huggingface/tokenizers: The current process just got forked, after parallelism has already been used. Disabling parallelism to avoid deadlocks...\n",
      "To disable this warning, you can either:\n",
      "\t- Avoid using `tokenizers` before the fork if possible\n",
      "\t- Explicitly set the environment variable TOKENIZERS_PARALLELISM=(true | false)\n"
     ]
    },
    {
     "data": {
      "text/html": [
       "\n",
       "        <iframe\n",
       "            width=\"100%\"\n",
       "            height=\"650\"\n",
       "            src=\"http://127.0.0.1:8050/\"\n",
       "            frameborder=\"0\"\n",
       "            allowfullscreen\n",
       "            \n",
       "        ></iframe>\n",
       "        "
      ],
      "text/plain": [
       "<IPython.lib.display.IFrame at 0x35a89c760>"
      ]
     },
     "metadata": {},
     "output_type": "display_data"
    },
    {
     "name": "stdout",
     "output_type": "stream",
     "text": [
      "Inferring data\n"
     ]
    },
    {
     "name": "stderr",
     "output_type": "stream",
     "text": [
      "/Users/sylvainestebe/Code/nlp_project/.venv/lib/python3.9/site-packages/embedding_explorer/prepare/clustering.py:84: UserWarning:\n",
      "\n",
      "Couldn't parse projection parameters as JSON.\n",
      "\n"
     ]
    },
    {
     "name": "stdout",
     "output_type": "stream",
     "text": [
      "Updating figure\n",
      "Inferring data\n"
     ]
    },
    {
     "name": "stderr",
     "output_type": "stream",
     "text": [
      "/Users/sylvainestebe/Code/nlp_project/.venv/lib/python3.9/site-packages/embedding_explorer/prepare/clustering.py:31: UserWarning:\n",
      "\n",
      "Couldn't dimensionality reduction parameters as JSON.\n",
      "\n",
      "/Users/sylvainestebe/Code/nlp_project/.venv/lib/python3.9/site-packages/embedding_explorer/prepare/clustering.py:84: UserWarning:\n",
      "\n",
      "Couldn't parse projection parameters as JSON.\n",
      "\n"
     ]
    },
    {
     "name": "stdout",
     "output_type": "stream",
     "text": [
      "Updating figure\n",
      "Inferring data\n"
     ]
    },
    {
     "name": "stderr",
     "output_type": "stream",
     "text": [
      "/Users/sylvainestebe/Code/nlp_project/.venv/lib/python3.9/site-packages/embedding_explorer/prepare/clustering.py:31: UserWarning:\n",
      "\n",
      "Couldn't dimensionality reduction parameters as JSON.\n",
      "\n",
      "/Users/sylvainestebe/Code/nlp_project/.venv/lib/python3.9/site-packages/embedding_explorer/prepare/clustering.py:62: UserWarning:\n",
      "\n",
      "Couldn't parse clustering parameters as JSON.\n",
      "\n",
      "/Users/sylvainestebe/Code/nlp_project/.venv/lib/python3.9/site-packages/sklearn/cluster/_kmeans.py:870: FutureWarning:\n",
      "\n",
      "The default value of `n_init` will change from 10 to 'auto' in 1.4. Set the value of `n_init` explicitly to suppress the warning\n",
      "\n",
      "/Users/sylvainestebe/Code/nlp_project/.venv/lib/python3.9/site-packages/embedding_explorer/prepare/clustering.py:84: UserWarning:\n",
      "\n",
      "Couldn't parse projection parameters as JSON.\n",
      "\n"
     ]
    },
    {
     "name": "stdout",
     "output_type": "stream",
     "text": [
      "Updating figure\n",
      "Inferring data\n"
     ]
    },
    {
     "name": "stderr",
     "output_type": "stream",
     "text": [
      "/Users/sylvainestebe/Code/nlp_project/.venv/lib/python3.9/site-packages/embedding_explorer/prepare/clustering.py:62: UserWarning:\n",
      "\n",
      "Couldn't parse clustering parameters as JSON.\n",
      "\n",
      "/Users/sylvainestebe/Code/nlp_project/.venv/lib/python3.9/site-packages/sklearn/cluster/_kmeans.py:870: FutureWarning:\n",
      "\n",
      "The default value of `n_init` will change from 10 to 'auto' in 1.4. Set the value of `n_init` explicitly to suppress the warning\n",
      "\n",
      "/Users/sylvainestebe/Code/nlp_project/.venv/lib/python3.9/site-packages/embedding_explorer/prepare/clustering.py:84: UserWarning:\n",
      "\n",
      "Couldn't parse projection parameters as JSON.\n",
      "\n"
     ]
    },
    {
     "name": "stdout",
     "output_type": "stream",
     "text": [
      "Updating figure\n",
      "Inferring data\n"
     ]
    },
    {
     "name": "stderr",
     "output_type": "stream",
     "text": [
      "/Users/sylvainestebe/Code/nlp_project/.venv/lib/python3.9/site-packages/embedding_explorer/prepare/clustering.py:31: UserWarning:\n",
      "\n",
      "Couldn't dimensionality reduction parameters as JSON.\n",
      "\n",
      "/Users/sylvainestebe/Code/nlp_project/.venv/lib/python3.9/site-packages/embedding_explorer/prepare/clustering.py:62: UserWarning:\n",
      "\n",
      "Couldn't parse clustering parameters as JSON.\n",
      "\n",
      "/Users/sylvainestebe/Code/nlp_project/.venv/lib/python3.9/site-packages/sklearn/cluster/_kmeans.py:870: FutureWarning:\n",
      "\n",
      "The default value of `n_init` will change from 10 to 'auto' in 1.4. Set the value of `n_init` explicitly to suppress the warning\n",
      "\n",
      "/Users/sylvainestebe/Code/nlp_project/.venv/lib/python3.9/site-packages/embedding_explorer/prepare/clustering.py:84: UserWarning:\n",
      "\n",
      "Couldn't parse projection parameters as JSON.\n",
      "\n"
     ]
    },
    {
     "name": "stdout",
     "output_type": "stream",
     "text": [
      "Updating figure\n",
      "Inferring data\n"
     ]
    },
    {
     "name": "stderr",
     "output_type": "stream",
     "text": [
      "/Users/sylvainestebe/Code/nlp_project/.venv/lib/python3.9/site-packages/embedding_explorer/prepare/clustering.py:31: UserWarning:\n",
      "\n",
      "Couldn't dimensionality reduction parameters as JSON.\n",
      "\n",
      "/Users/sylvainestebe/Code/nlp_project/.venv/lib/python3.9/site-packages/embedding_explorer/prepare/clustering.py:62: UserWarning:\n",
      "\n",
      "Couldn't parse clustering parameters as JSON.\n",
      "\n",
      "/Users/sylvainestebe/Code/nlp_project/.venv/lib/python3.9/site-packages/sklearn/cluster/_kmeans.py:870: FutureWarning:\n",
      "\n",
      "The default value of `n_init` will change from 10 to 'auto' in 1.4. Set the value of `n_init` explicitly to suppress the warning\n",
      "\n",
      "/Users/sylvainestebe/Code/nlp_project/.venv/lib/python3.9/site-packages/embedding_explorer/prepare/clustering.py:84: UserWarning:\n",
      "\n",
      "Couldn't parse projection parameters as JSON.\n",
      "\n"
     ]
    },
    {
     "name": "stdout",
     "output_type": "stream",
     "text": [
      "Updating figure\n",
      "Inferring data\n"
     ]
    },
    {
     "name": "stderr",
     "output_type": "stream",
     "text": [
      "/Users/sylvainestebe/Code/nlp_project/.venv/lib/python3.9/site-packages/embedding_explorer/prepare/clustering.py:31: UserWarning:\n",
      "\n",
      "Couldn't dimensionality reduction parameters as JSON.\n",
      "\n",
      "/Users/sylvainestebe/Code/nlp_project/.venv/lib/python3.9/site-packages/embedding_explorer/prepare/clustering.py:62: UserWarning:\n",
      "\n",
      "Couldn't parse clustering parameters as JSON.\n",
      "\n",
      "/Users/sylvainestebe/Code/nlp_project/.venv/lib/python3.9/site-packages/embedding_explorer/prepare/clustering.py:84: UserWarning:\n",
      "\n",
      "Couldn't parse projection parameters as JSON.\n",
      "\n"
     ]
    },
    {
     "name": "stdout",
     "output_type": "stream",
     "text": [
      "Updating figure\n"
     ]
    }
   ],
   "source": [
    "show_clustering(\n",
    "   corpus,\n",
    "  embeddings=embeddings ,\n",
    "  metadata=metadata,\n",
    "  hover_name=\"group\", # Title of hover box is going to be the group\n",
    "  hover_data=[\"text\", \"length\"] # We would also like to see these on hover\n",
    ")"
   ]
  },
  {
   "cell_type": "markdown",
   "metadata": {},
   "source": [
    "# second approach with encoder"
   ]
  },
  {
   "cell_type": "code",
   "execution_count": 29,
   "metadata": {},
   "outputs": [],
   "source": [
    "# encoder = SentenceEncoder(\"all-MiniLM-L6-v2\")\n",
    "encoder = SentenceEncoder(\"sentence-transformers/all-roberta-large-v1\")\n",
    "\n"
   ]
  },
  {
   "cell_type": "code",
   "execution_count": null,
   "metadata": {},
   "outputs": [
    {
     "name": "stdout",
     "output_type": "stream",
     "text": [
      "huggingface/tokenizers: The current process just got forked, after parallelism has already been used. Disabling parallelism to avoid deadlocks...\n",
      "To disable this warning, you can either:\n",
      "\t- Avoid using `tokenizers` before the fork if possible\n",
      "\t- Explicitly set the environment variable TOKENIZERS_PARALLELISM=(true | false)\n"
     ]
    },
    {
     "data": {
      "text/html": [
       "\n",
       "        <iframe\n",
       "            width=\"100%\"\n",
       "            height=\"650\"\n",
       "            src=\"http://127.0.0.1:8050/\"\n",
       "            frameborder=\"0\"\n",
       "            allowfullscreen\n",
       "            \n",
       "        ></iframe>\n",
       "        "
      ],
      "text/plain": [
       "<IPython.lib.display.IFrame at 0x2f6889850>"
      ]
     },
     "metadata": {},
     "output_type": "display_data"
    },
    {
     "name": "stdout",
     "output_type": "stream",
     "text": [
      "Inferring data\n"
     ]
    },
    {
     "name": "stderr",
     "output_type": "stream",
     "text": [
      "/Users/sylvainestebe/Code/nlp_project/.venv/lib/python3.9/site-packages/embedding_explorer/prepare/clustering.py:62: UserWarning:\n",
      "\n",
      "Couldn't parse clustering parameters as JSON.\n",
      "\n",
      "/Users/sylvainestebe/Code/nlp_project/.venv/lib/python3.9/site-packages/sklearn/cluster/_kmeans.py:870: FutureWarning:\n",
      "\n",
      "The default value of `n_init` will change from 10 to 'auto' in 1.4. Set the value of `n_init` explicitly to suppress the warning\n",
      "\n",
      "/Users/sylvainestebe/Code/nlp_project/.venv/lib/python3.9/site-packages/embedding_explorer/prepare/clustering.py:84: UserWarning:\n",
      "\n",
      "Couldn't parse projection parameters as JSON.\n",
      "\n"
     ]
    },
    {
     "name": "stdout",
     "output_type": "stream",
     "text": [
      "Updating figure\n"
     ]
    },
    {
     "name": "stderr",
     "output_type": "stream",
     "text": [
      "/Users/sylvainestebe/Code/nlp_project/.venv/lib/python3.9/site-packages/embedding_explorer/blueprints/clustering.py:162: UserWarning:\n",
      "\n",
      "Failed query: name 'c' is not defined\n",
      "\n",
      "/Users/sylvainestebe/Code/nlp_project/.venv/lib/python3.9/site-packages/embedding_explorer/blueprints/clustering.py:162: UserWarning:\n",
      "\n",
      "Failed query: name 'cl' is not defined\n",
      "\n"
     ]
    },
    {
     "name": "stdout",
     "output_type": "stream",
     "text": [
      "Updating figure\n",
      "Updating figure\n"
     ]
    },
    {
     "name": "stderr",
     "output_type": "stream",
     "text": [
      "/Users/sylvainestebe/Code/nlp_project/.venv/lib/python3.9/site-packages/embedding_explorer/blueprints/clustering.py:162: UserWarning:\n",
      "\n",
      "Failed query: name 'clu' is not defined\n",
      "\n",
      "/Users/sylvainestebe/Code/nlp_project/.venv/lib/python3.9/site-packages/embedding_explorer/blueprints/clustering.py:162: UserWarning:\n",
      "\n",
      "Failed query: name 'clus' is not defined\n",
      "\n"
     ]
    },
    {
     "name": "stdout",
     "output_type": "stream",
     "text": [
      "Updating figure\n",
      "Updating figure\n"
     ]
    },
    {
     "name": "stderr",
     "output_type": "stream",
     "text": [
      "/Users/sylvainestebe/Code/nlp_project/.venv/lib/python3.9/site-packages/embedding_explorer/blueprints/clustering.py:162: UserWarning:\n",
      "\n",
      "Failed query: name 'clust' is not defined\n",
      "\n"
     ]
    },
    {
     "name": "stdout",
     "output_type": "stream",
     "text": [
      "Updating figure\n"
     ]
    },
    {
     "name": "stderr",
     "output_type": "stream",
     "text": [
      "/Users/sylvainestebe/Code/nlp_project/.venv/lib/python3.9/site-packages/embedding_explorer/blueprints/clustering.py:162: UserWarning:\n",
      "\n",
      "Failed query: name 'cluste' is not defined\n",
      "\n"
     ]
    },
    {
     "name": "stdout",
     "output_type": "stream",
     "text": [
      "Updating figure\n"
     ]
    },
    {
     "name": "stderr",
     "output_type": "stream",
     "text": [
      "/Users/sylvainestebe/Code/nlp_project/.venv/lib/python3.9/site-packages/embedding_explorer/blueprints/clustering.py:162: UserWarning:\n",
      "\n",
      "Failed query: name 'cluster' is not defined\n",
      "\n"
     ]
    },
    {
     "name": "stdout",
     "output_type": "stream",
     "text": [
      "Updating figure\n"
     ]
    },
    {
     "name": "stderr",
     "output_type": "stream",
     "text": [
      "/Users/sylvainestebe/Code/nlp_project/.venv/lib/python3.9/site-packages/embedding_explorer/blueprints/clustering.py:162: UserWarning:\n",
      "\n",
      "Failed query: name 'cluste' is not defined\n",
      "\n",
      "/Users/sylvainestebe/Code/nlp_project/.venv/lib/python3.9/site-packages/embedding_explorer/blueprints/clustering.py:162: UserWarning:\n",
      "\n",
      "Failed query: name 'clust' is not defined\n",
      "\n"
     ]
    },
    {
     "name": "stdout",
     "output_type": "stream",
     "text": [
      "Updating figure\n",
      "Updating figure\n"
     ]
    },
    {
     "name": "stderr",
     "output_type": "stream",
     "text": [
      "/Users/sylvainestebe/Code/nlp_project/.venv/lib/python3.9/site-packages/embedding_explorer/blueprints/clustering.py:162: UserWarning:\n",
      "\n",
      "Failed query: name 'clus' is not defined\n",
      "\n"
     ]
    },
    {
     "name": "stdout",
     "output_type": "stream",
     "text": [
      "Updating figure\n"
     ]
    },
    {
     "name": "stderr",
     "output_type": "stream",
     "text": [
      "/Users/sylvainestebe/Code/nlp_project/.venv/lib/python3.9/site-packages/embedding_explorer/blueprints/clustering.py:162: UserWarning:\n",
      "\n",
      "Failed query: name 'clu' is not defined\n",
      "\n",
      "/Users/sylvainestebe/Code/nlp_project/.venv/lib/python3.9/site-packages/embedding_explorer/blueprints/clustering.py:162: UserWarning:\n",
      "\n",
      "Failed query: name 'cl' is not defined\n",
      "\n"
     ]
    },
    {
     "name": "stdout",
     "output_type": "stream",
     "text": [
      "Updating figure\n",
      "Updating figure\n"
     ]
    },
    {
     "name": "stderr",
     "output_type": "stream",
     "text": [
      "/Users/sylvainestebe/Code/nlp_project/.venv/lib/python3.9/site-packages/embedding_explorer/blueprints/clustering.py:162: UserWarning:\n",
      "\n",
      "Failed query: name 'c' is not defined\n",
      "\n"
     ]
    },
    {
     "name": "stdout",
     "output_type": "stream",
     "text": [
      "Updating figure\n",
      "Updating figure\n"
     ]
    },
    {
     "name": "stderr",
     "output_type": "stream",
     "text": [
      "/Users/sylvainestebe/Code/nlp_project/.venv/lib/python3.9/site-packages/embedding_explorer/blueprints/clustering.py:162: UserWarning:\n",
      "\n",
      "Failed query: name 'c' is not defined\n",
      "\n",
      "/Users/sylvainestebe/Code/nlp_project/.venv/lib/python3.9/site-packages/embedding_explorer/blueprints/clustering.py:162: UserWarning:\n",
      "\n",
      "Failed query: name 'cl' is not defined\n",
      "\n"
     ]
    },
    {
     "name": "stdout",
     "output_type": "stream",
     "text": [
      "Updating figure\n",
      "Updating figure\n"
     ]
    },
    {
     "name": "stderr",
     "output_type": "stream",
     "text": [
      "/Users/sylvainestebe/Code/nlp_project/.venv/lib/python3.9/site-packages/embedding_explorer/blueprints/clustering.py:162: UserWarning:\n",
      "\n",
      "Failed query: name 'clu' is not defined\n",
      "\n",
      "/Users/sylvainestebe/Code/nlp_project/.venv/lib/python3.9/site-packages/embedding_explorer/blueprints/clustering.py:162: UserWarning:\n",
      "\n",
      "Failed query: name 'clus' is not defined\n",
      "\n"
     ]
    },
    {
     "name": "stdout",
     "output_type": "stream",
     "text": [
      "Updating figure\n",
      "Updating figure\n"
     ]
    },
    {
     "name": "stderr",
     "output_type": "stream",
     "text": [
      "/Users/sylvainestebe/Code/nlp_project/.venv/lib/python3.9/site-packages/embedding_explorer/blueprints/clustering.py:162: UserWarning:\n",
      "\n",
      "Failed query: name 'clust' is not defined\n",
      "\n",
      "/Users/sylvainestebe/Code/nlp_project/.venv/lib/python3.9/site-packages/embedding_explorer/blueprints/clustering.py:162: UserWarning:\n",
      "\n",
      "Failed query: name 'cluste' is not defined\n",
      "\n"
     ]
    },
    {
     "name": "stdout",
     "output_type": "stream",
     "text": [
      "Updating figure\n",
      "Updating figure\n"
     ]
    },
    {
     "name": "stderr",
     "output_type": "stream",
     "text": [
      "/Users/sylvainestebe/Code/nlp_project/.venv/lib/python3.9/site-packages/embedding_explorer/blueprints/clustering.py:162: UserWarning:\n",
      "\n",
      "Failed query: name 'cluster' is not defined\n",
      "\n"
     ]
    },
    {
     "name": "stdout",
     "output_type": "stream",
     "text": [
      "Updating figure\n"
     ]
    },
    {
     "name": "stderr",
     "output_type": "stream",
     "text": [
      "/Users/sylvainestebe/Code/nlp_project/.venv/lib/python3.9/site-packages/embedding_explorer/blueprints/clustering.py:162: UserWarning:\n",
      "\n",
      "Failed query: name 'cluster_' is not defined\n",
      "\n"
     ]
    },
    {
     "name": "stdout",
     "output_type": "stream",
     "text": [
      "Updating figure\n"
     ]
    },
    {
     "name": "stderr",
     "output_type": "stream",
     "text": [
      "/Users/sylvainestebe/Code/nlp_project/.venv/lib/python3.9/site-packages/embedding_explorer/blueprints/clustering.py:162: UserWarning:\n",
      "\n",
      "Failed query: name 'cluster_l' is not defined\n",
      "\n"
     ]
    },
    {
     "name": "stdout",
     "output_type": "stream",
     "text": [
      "Updating figure\n"
     ]
    },
    {
     "name": "stderr",
     "output_type": "stream",
     "text": [
      "/Users/sylvainestebe/Code/nlp_project/.venv/lib/python3.9/site-packages/embedding_explorer/blueprints/clustering.py:162: UserWarning:\n",
      "\n",
      "Failed query: name 'cluster_la' is not defined\n",
      "\n",
      "/Users/sylvainestebe/Code/nlp_project/.venv/lib/python3.9/site-packages/embedding_explorer/blueprints/clustering.py:162: UserWarning:\n",
      "\n",
      "Failed query: name 'cluster_lab' is not defined\n",
      "\n"
     ]
    },
    {
     "name": "stdout",
     "output_type": "stream",
     "text": [
      "Updating figure\n",
      "Updating figure\n"
     ]
    },
    {
     "name": "stderr",
     "output_type": "stream",
     "text": [
      "/Users/sylvainestebe/Code/nlp_project/.venv/lib/python3.9/site-packages/embedding_explorer/blueprints/clustering.py:162: UserWarning:\n",
      "\n",
      "Failed query: name 'cluster_labe' is not defined\n",
      "\n",
      "/Users/sylvainestebe/Code/nlp_project/.venv/lib/python3.9/site-packages/embedding_explorer/blueprints/clustering.py:162: UserWarning:\n",
      "\n",
      "Failed query: name 'cluster_label' is not defined\n",
      "\n"
     ]
    },
    {
     "name": "stdout",
     "output_type": "stream",
     "text": [
      "Updating figure\n",
      "Updating figure\n"
     ]
    },
    {
     "name": "stderr",
     "output_type": "stream",
     "text": [
      "/Users/sylvainestebe/Code/nlp_project/.venv/lib/python3.9/site-packages/embedding_explorer/blueprints/clustering.py:162: UserWarning:\n",
      "\n",
      "Failed query: name 'cluster_label' is not defined\n",
      "\n",
      "/Users/sylvainestebe/Code/nlp_project/.venv/lib/python3.9/site-packages/embedding_explorer/blueprints/clustering.py:162: UserWarning:\n",
      "\n",
      "Failed query: invalid syntax (<unknown>, line 1)\n",
      "\n"
     ]
    },
    {
     "name": "stdout",
     "output_type": "stream",
     "text": [
      "Updating figure\n",
      "Updating figure\n"
     ]
    },
    {
     "name": "stderr",
     "output_type": "stream",
     "text": [
      "/Users/sylvainestebe/Code/nlp_project/.venv/lib/python3.9/site-packages/embedding_explorer/blueprints/clustering.py:162: UserWarning:\n",
      "\n",
      "Failed query: invalid syntax (<unknown>, line 1)\n",
      "\n"
     ]
    },
    {
     "name": "stdout",
     "output_type": "stream",
     "text": [
      "Updating figure\n"
     ]
    },
    {
     "name": "stderr",
     "output_type": "stream",
     "text": [
      "/Users/sylvainestebe/Code/nlp_project/.venv/lib/python3.9/site-packages/embedding_explorer/blueprints/clustering.py:162: UserWarning:\n",
      "\n",
      "Failed query: cannot assign without a target object\n",
      "\n"
     ]
    },
    {
     "name": "stdout",
     "output_type": "stream",
     "text": [
      "Updating figure\n"
     ]
    },
    {
     "name": "stderr",
     "output_type": "stream",
     "text": [
      "/Users/sylvainestebe/Code/nlp_project/.venv/lib/python3.9/site-packages/embedding_explorer/blueprints/clustering.py:162: UserWarning:\n",
      "\n",
      "Failed query: invalid syntax (<unknown>, line 1)\n",
      "\n"
     ]
    },
    {
     "name": "stdout",
     "output_type": "stream",
     "text": [
      "Updating figure\n"
     ]
    },
    {
     "name": "stderr",
     "output_type": "stream",
     "text": [
      "/Users/sylvainestebe/Code/nlp_project/.venv/lib/python3.9/site-packages/embedding_explorer/blueprints/clustering.py:162: UserWarning:\n",
      "\n",
      "Failed query: invalid syntax (<unknown>, line 1)\n",
      "\n",
      "/Users/sylvainestebe/Code/nlp_project/.venv/lib/python3.9/site-packages/embedding_explorer/blueprints/clustering.py:162: UserWarning:\n",
      "\n",
      "Failed query: name 'cluster_label' is not defined\n",
      "\n",
      "/Users/sylvainestebe/Code/nlp_project/.venv/lib/python3.9/site-packages/embedding_explorer/blueprints/clustering.py:162: UserWarning:\n",
      "\n",
      "Failed query: name 'cluster_label' is not defined\n",
      "\n"
     ]
    },
    {
     "name": "stdout",
     "output_type": "stream",
     "text": [
      "Updating figure\n",
      "Updating figure\n",
      "Updating figure\n",
      "Updating figure\n"
     ]
    },
    {
     "name": "stderr",
     "output_type": "stream",
     "text": [
      "/Users/sylvainestebe/Code/nlp_project/.venv/lib/python3.9/site-packages/embedding_explorer/blueprints/clustering.py:162: UserWarning:\n",
      "\n",
      "Failed query: name 'cluster_labe' is not defined\n",
      "\n",
      "/Users/sylvainestebe/Code/nlp_project/.venv/lib/python3.9/site-packages/embedding_explorer/blueprints/clustering.py:162: UserWarning:\n",
      "\n",
      "Failed query: name 'cluster_lab' is not defined\n",
      "\n",
      "/Users/sylvainestebe/Code/nlp_project/.venv/lib/python3.9/site-packages/embedding_explorer/blueprints/clustering.py:162: UserWarning:\n",
      "\n",
      "Failed query: name 'cluster_la' is not defined\n",
      "\n"
     ]
    },
    {
     "name": "stdout",
     "output_type": "stream",
     "text": [
      "Updating figure\n",
      "Updating figure\n",
      "Updating figure\n"
     ]
    },
    {
     "name": "stderr",
     "output_type": "stream",
     "text": [
      "/Users/sylvainestebe/Code/nlp_project/.venv/lib/python3.9/site-packages/embedding_explorer/blueprints/clustering.py:162: UserWarning:\n",
      "\n",
      "Failed query: name 'cluster_l' is not defined\n",
      "\n",
      "/Users/sylvainestebe/Code/nlp_project/.venv/lib/python3.9/site-packages/embedding_explorer/blueprints/clustering.py:162: UserWarning:\n",
      "\n",
      "Failed query: name 'cluster_' is not defined\n",
      "\n",
      "/Users/sylvainestebe/Code/nlp_project/.venv/lib/python3.9/site-packages/embedding_explorer/blueprints/clustering.py:162: UserWarning:\n",
      "\n",
      "Failed query: name 'cluster' is not defined\n",
      "\n"
     ]
    },
    {
     "name": "stdout",
     "output_type": "stream",
     "text": [
      "Updating figure\n",
      "Updating figure\n",
      "Updating figure\n"
     ]
    },
    {
     "name": "stderr",
     "output_type": "stream",
     "text": [
      "/Users/sylvainestebe/Code/nlp_project/.venv/lib/python3.9/site-packages/embedding_explorer/blueprints/clustering.py:162: UserWarning:\n",
      "\n",
      "Failed query: name 'cluste' is not defined\n",
      "\n",
      "/Users/sylvainestebe/Code/nlp_project/.venv/lib/python3.9/site-packages/embedding_explorer/blueprints/clustering.py:162: UserWarning:\n",
      "\n",
      "Failed query: name 'clust' is not defined\n",
      "\n",
      "/Users/sylvainestebe/Code/nlp_project/.venv/lib/python3.9/site-packages/embedding_explorer/blueprints/clustering.py:162: UserWarning:\n",
      "\n",
      "Failed query: name 'clus' is not defined\n",
      "\n"
     ]
    },
    {
     "name": "stdout",
     "output_type": "stream",
     "text": [
      "Updating figure\n",
      "Updating figure\n",
      "Updating figure\n"
     ]
    },
    {
     "name": "stderr",
     "output_type": "stream",
     "text": [
      "/Users/sylvainestebe/Code/nlp_project/.venv/lib/python3.9/site-packages/embedding_explorer/blueprints/clustering.py:162: UserWarning:\n",
      "\n",
      "Failed query: name 'clu' is not defined\n",
      "\n",
      "/Users/sylvainestebe/Code/nlp_project/.venv/lib/python3.9/site-packages/embedding_explorer/blueprints/clustering.py:162: UserWarning:\n",
      "\n",
      "Failed query: name 'cl' is not defined\n",
      "\n",
      "/Users/sylvainestebe/Code/nlp_project/.venv/lib/python3.9/site-packages/embedding_explorer/blueprints/clustering.py:162: UserWarning:\n",
      "\n",
      "Failed query: name 'c' is not defined\n",
      "\n"
     ]
    },
    {
     "name": "stdout",
     "output_type": "stream",
     "text": [
      "Updating figure\n",
      "Updating figure\n"
     ]
    }
   ],
   "source": [
    "\n",
    "show_clustering(\n",
    "  corpus,\n",
    "  vectorizer=encoder,\n",
    "  metadata=metadata,\n",
    "  hover_name=\"group\", # Title of hover box is going to be the group\n",
    "  hover_data=[\"text\", \"length\"] # We would also like to see these on hover\n",
    ")"
   ]
  },
  {
   "cell_type": "markdown",
   "metadata": {},
   "source": [
    "# Have differents exploration possible: https://centre-for-humanities-computing.github.io/embedding-explorer/dashboards.html\n",
    "- Now it's time to explore the multiple reduction possible and clustering\n",
    "- Then if I have time to find new feature\n",
    "- Then generate maybe new label (this part should be before plotting, for exemple do the cluster analysis before plot, for each cluster generate a name and do it in the table)\n",
    "- Then Draw the pipeline \n",
    "- Then explort differents plot\n",
    "- Then make a nice github repository"
   ]
  }
 ],
 "metadata": {
  "kernelspec": {
   "display_name": ".venv",
   "language": "python",
   "name": "python3"
  },
  "language_info": {
   "codemirror_mode": {
    "name": "ipython",
    "version": 3
   },
   "file_extension": ".py",
   "mimetype": "text/x-python",
   "name": "python",
   "nbconvert_exporter": "python",
   "pygments_lexer": "ipython3",
   "version": "3.9.6"
  }
 },
 "nbformat": 4,
 "nbformat_minor": 2
}
