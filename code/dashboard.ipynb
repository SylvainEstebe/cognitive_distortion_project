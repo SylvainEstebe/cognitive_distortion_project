{
 "cells": [
  {
   "cell_type": "code",
   "execution_count": 1,
   "metadata": {},
   "outputs": [
    {
     "name": "stderr",
     "output_type": "stream",
     "text": [
      "/Users/sylvainestebe/Code/nlp_project/.venv/lib/python3.9/site-packages/urllib3/__init__.py:34: NotOpenSSLWarning: urllib3 v2 only supports OpenSSL 1.1.1+, currently the 'ssl' module is compiled with 'LibreSSL 2.8.3'. See: https://github.com/urllib3/urllib3/issues/3020\n",
      "  warnings.warn(\n"
     ]
    }
   ],
   "source": [
    "from dash import Dash, dcc, html, Input, Output\n",
    "import plotly.graph_objects as go\n",
    "import pandas as pd\n",
    "import plotly.express as px"
   ]
  },
  {
   "cell_type": "code",
   "execution_count": 4,
   "metadata": {},
   "outputs": [],
   "source": [
    "dff = pd.read_csv(\"https://raw.githubusercontent.com/SylvainEstebe/cognitive_distortion_project/main/data/corpus_kmean.csv\")"
   ]
  },
  {
   "cell_type": "markdown",
   "metadata": {},
   "source": [
    "https://dash-example-index.herokuapp.com/tabs"
   ]
  },
  {
   "cell_type": "code",
   "execution_count": 2,
   "metadata": {},
   "outputs": [],
   "source": [
    "df = pd.read_csv(\"/Users/sylvainestebe/Code/nlp_project/cognitive_distortion_project/data/corpus_kmean.csv\")\n",
    "df2 = pd.read_csv(\"/Users/sylvainestebe/Code/nlp_project/cognitive_distortion_project/data/corpus_aglom.csv\")\n",
    "df3 = pd.read_csv(\"/Users/sylvainestebe/Code/nlp_project/cognitive_distortion_project/data/corpus_hdbscan.csv\")\n",
    "\n",
    "# specify the model\n",
    "model = 'all-mpnet-base-v2'\n",
    "model_2 = 'all-MiniLM-L12-v2'\n",
    "model_3 = 'All-Distilroberta-v1'\n",
    "models = [model,model_2,model_3]"
   ]
  },
  {
   "cell_type": "code",
   "execution_count": 3,
   "metadata": {},
   "outputs": [
    {
     "data": {
      "text/html": [
       "\n",
       "        <iframe\n",
       "            width=\"100%\"\n",
       "            height=\"650\"\n",
       "            src=\"http://127.0.0.1:8050/\"\n",
       "            frameborder=\"0\"\n",
       "            allowfullscreen\n",
       "            \n",
       "        ></iframe>\n",
       "        "
      ],
      "text/plain": [
       "<IPython.lib.display.IFrame at 0x11f3ecf70>"
      ]
     },
     "metadata": {},
     "output_type": "display_data"
    }
   ],
   "source": [
    "app = Dash(__name__)\n",
    "\n",
    "app.layout = html.Div(\n",
    "    [\n",
    "        html.H4(\"Embedding of negative thought\"),\n",
    "        html.P(\"Select a model:\"),\n",
    "        dcc.RadioItems(\n",
    "            id=\"selection\",\n",
    "            options=[\"K-mean 1\",\"K-mean 2\",\"K-mean 3\",\"Agglomerative 1\",\"Agglomerative 2\",\"Agglomerative 3\",\"HDBSCAN 1\",\"HDBSCAN 2\",\"HDBSCAN 3\"],\n",
    "            value=\"K-mean 1\",\n",
    "        ),\n",
    "        dcc.Loading(dcc.Graph(id=\"graph\"), type=\"cube\"),\n",
    "    ]\n",
    ")\n",
    "\n",
    "    \n",
    "@app.callback(\n",
    "    Output(\"graph\", \"figure\"), Input(\"selection\", \"value\")\n",
    ")\n",
    "def display_animated_graph(selection):\n",
    "\n",
    "    animations = {\n",
    "        \"K-mean 1\": px.scatter(\n",
    "        df,\n",
    "        x=df[f\"{model} x\"],\n",
    "        y=df[f\"{model} y\"],\n",
    "        color=  df[f\"{model} k-mean\"].astype(str),\n",
    "        hover_data= 'thought',\n",
    "        title= f'Cluster of negative thought using {model} model'\n",
    "        ),\n",
    "        \"K-mean 2\": px.scatter(\n",
    "        df,\n",
    "        x=df[f\"{model_2} x\"],\n",
    "        y=df[f\"{model_2} y\"],\n",
    "        color=  df[f\"{model_2} k-mean\"].astype(str),\n",
    "        hover_data= 'thought',\n",
    "        title= f'Cluster of negative thought using {model_2} model'\n",
    "        ),\n",
    "        \"K-mean 3\": px.scatter(\n",
    "        df,\n",
    "        x=df[f\"{model_3} x\"],\n",
    "        y=df[f\"{model_3} y\"],\n",
    "        color=  df[f\"{model_3} k-mean\"].astype(str),\n",
    "        hover_data= 'thought',\n",
    "        title= f'Cluster of negative thought using {model_3} model'\n",
    "        ),\n",
    "        \"Agglomerative 1\": px.scatter(\n",
    "        df2,\n",
    "        x=df2[f\"{model} x\"],\n",
    "        y=df2[f\"{model} y\"],\n",
    "        color=  df2[f\"{model} aglo\"].astype(str),\n",
    "        hover_data= 'thought',\n",
    "        title= f'Cluster of negative thought using {model} model'\n",
    "        ),\n",
    "        \"Agglomerative 2\": px.scatter(\n",
    "        df2,\n",
    "        x=df2[f\"{model_2} x\"],\n",
    "        y=df2[f\"{model_2} y\"],\n",
    "        color=  df2[f\"{model_2} aglo\"].astype(str),\n",
    "        hover_data= 'thought',\n",
    "        title= f'Cluster of negative thought using {model_2} model'\n",
    "        ),\n",
    "        \"Agglomerative 3\": px.scatter(\n",
    "        df2,\n",
    "        x=df2[f\"{model_3} x\"],\n",
    "        y=df2[f\"{model_3} y\"],\n",
    "        color=  df2[f\"{model_3} aglo\"].astype(str),\n",
    "        hover_data= 'thought',\n",
    "        title= f'Cluster of negative thought using {model_3} model'\n",
    "        ),\n",
    "        \"HDBSCAN 1\": px.scatter(\n",
    "        df3,\n",
    "        x=df3[f\"{model} x\"],\n",
    "        y=df3[f\"{model} y\"],\n",
    "        color=  df3[f\"{model} hdbscan_manual\"].astype(str),\n",
    "        hover_data= 'thought',\n",
    "        title= f'Cluster of negative thought using {model} model'\n",
    "        ),\n",
    "        \"HDBSCAN 2\": px.scatter(\n",
    "        df3,\n",
    "        x=df3[f\"{model_2} x\"],\n",
    "        y=df3[f\"{model_2} y\"],\n",
    "        color=  df3[f\"{model_2} hdbscan_manual\"].astype(str),\n",
    "        hover_data= 'thought',\n",
    "        title= f'Cluster of negative thought using {model_2} model'\n",
    "        ),\n",
    "        \"HDBSCAN 3\": px.scatter(\n",
    "        df3,\n",
    "        x=df3[f\"{model_3} x\"],\n",
    "        y=df3[f\"{model_3} y\"],\n",
    "        color=  df3[f\"{model_3} hdbscan_manual\"].astype(str),\n",
    "        hover_data= 'thought',\n",
    "        title= f'Cluster of negative thought using {model_3} model'\n",
    "        )\n",
    "    }\n",
    "    return animations[selection]\n",
    "\n",
    "\n",
    "if __name__ == \"__main__\":\n",
    "    app.run_server(debug=True)"
   ]
  }
 ],
 "metadata": {
  "kernelspec": {
   "display_name": ".venv",
   "language": "python",
   "name": "python3"
  },
  "language_info": {
   "codemirror_mode": {
    "name": "ipython",
    "version": 3
   },
   "file_extension": ".py",
   "mimetype": "text/x-python",
   "name": "python",
   "nbconvert_exporter": "python",
   "pygments_lexer": "ipython3",
   "version": "3.9.6"
  }
 },
 "nbformat": 4,
 "nbformat_minor": 2
}
