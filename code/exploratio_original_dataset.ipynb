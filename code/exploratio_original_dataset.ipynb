{
 "cells": [
  {
   "cell_type": "markdown",
   "metadata": {},
   "source": [
    "based on this article : https://github.com/behavioral-data/Cognitive-Reframing/tree/main"
   ]
  },
  {
   "cell_type": "code",
   "execution_count": 3,
   "metadata": {},
   "outputs": [],
   "source": [
    "import numpy as np\n",
    "import pandas as pd\n",
    "import os"
   ]
  },
  {
   "cell_type": "code",
   "execution_count": 15,
   "metadata": {},
   "outputs": [
    {
     "data": {
      "text/html": [
       "<div>\n",
       "<style scoped>\n",
       "    .dataframe tbody tr th:only-of-type {\n",
       "        vertical-align: middle;\n",
       "    }\n",
       "\n",
       "    .dataframe tbody tr th {\n",
       "        vertical-align: top;\n",
       "    }\n",
       "\n",
       "    .dataframe thead th {\n",
       "        text-align: right;\n",
       "    }\n",
       "</style>\n",
       "<table border=\"1\" class=\"dataframe\">\n",
       "  <thead>\n",
       "    <tr style=\"text-align: right;\">\n",
       "      <th></th>\n",
       "      <th>thought</th>\n",
       "      <th>thinking_traps_addressed</th>\n",
       "    </tr>\n",
       "  </thead>\n",
       "  <tbody>\n",
       "    <tr>\n",
       "      <th>0</th>\n",
       "      <td>Someone I trusted stole something valuable of ...</td>\n",
       "      <td>emotional reasoning</td>\n",
       "    </tr>\n",
       "    <tr>\n",
       "      <th>1</th>\n",
       "      <td>Someone I trusted stole something valuable of ...</td>\n",
       "      <td>emotional reasoning</td>\n",
       "    </tr>\n",
       "    <tr>\n",
       "      <th>2</th>\n",
       "      <td>She doesn't respect me.</td>\n",
       "      <td>overgeneralizing</td>\n",
       "    </tr>\n",
       "    <tr>\n",
       "      <th>3</th>\n",
       "      <td>She doesn't respect me.</td>\n",
       "      <td>overgeneralizing</td>\n",
       "    </tr>\n",
       "    <tr>\n",
       "      <th>4</th>\n",
       "      <td>My friend is ignoring his recently-deceased wife.</td>\n",
       "      <td>disqualifying the positive</td>\n",
       "    </tr>\n",
       "    <tr>\n",
       "      <th>...</th>\n",
       "      <td>...</td>\n",
       "      <td>...</td>\n",
       "    </tr>\n",
       "    <tr>\n",
       "      <th>595</th>\n",
       "      <td>ill never be able to find a good job</td>\n",
       "      <td>fortune telling,catastrophizing</td>\n",
       "    </tr>\n",
       "    <tr>\n",
       "      <th>596</th>\n",
       "      <td>I am being disrespected</td>\n",
       "      <td>labeling,disqualifying the positive,negative f...</td>\n",
       "    </tr>\n",
       "    <tr>\n",
       "      <th>597</th>\n",
       "      <td>I am being disrespected</td>\n",
       "      <td>labeling,disqualifying the positive,negative f...</td>\n",
       "    </tr>\n",
       "    <tr>\n",
       "      <th>598</th>\n",
       "      <td>maybe she doesn't like me anymore.</td>\n",
       "      <td>mind reading</td>\n",
       "    </tr>\n",
       "    <tr>\n",
       "      <th>599</th>\n",
       "      <td>maybe she doesn't like me anymore.</td>\n",
       "      <td>personalizing</td>\n",
       "    </tr>\n",
       "  </tbody>\n",
       "</table>\n",
       "<p>600 rows × 2 columns</p>\n",
       "</div>"
      ],
      "text/plain": [
       "                                               thought  \\\n",
       "0    Someone I trusted stole something valuable of ...   \n",
       "1    Someone I trusted stole something valuable of ...   \n",
       "2                              She doesn't respect me.   \n",
       "3                              She doesn't respect me.   \n",
       "4    My friend is ignoring his recently-deceased wife.   \n",
       "..                                                 ...   \n",
       "595               ill never be able to find a good job   \n",
       "596                            I am being disrespected   \n",
       "597                            I am being disrespected   \n",
       "598                 maybe she doesn't like me anymore.   \n",
       "599                 maybe she doesn't like me anymore.   \n",
       "\n",
       "                              thinking_traps_addressed  \n",
       "0                                  emotional reasoning  \n",
       "1                                  emotional reasoning  \n",
       "2                                     overgeneralizing  \n",
       "3                                     overgeneralizing  \n",
       "4                           disqualifying the positive  \n",
       "..                                                 ...  \n",
       "595                    fortune telling,catastrophizing  \n",
       "596  labeling,disqualifying the positive,negative f...  \n",
       "597  labeling,disqualifying the positive,negative f...  \n",
       "598                                       mind reading  \n",
       "599                                      personalizing  \n",
       "\n",
       "[600 rows x 2 columns]"
      ]
     },
     "execution_count": 15,
     "metadata": {},
     "output_type": "execute_result"
    }
   ],
   "source": [
    "# reframing_dataset\n",
    "\n",
    "data = pd.read_csv(\"/Users/sylvainestebe/Code/nlp_project/cognitive_distortion_project/data/reframing_dataset.csv\")\n",
    "variable = ['thought','thinking_traps_addressed']\n",
    "data[variable]"
   ]
  },
  {
   "cell_type": "code",
   "execution_count": 18,
   "metadata": {},
   "outputs": [],
   "source": [
    "# json_dataset\n",
    "with open('/Users/sylvainestebe/Code/nlp_project/cognitive_distortion_project/data/thinking_traps.jsonl') as f:\n",
    "    df = pd.read_json(f, lines=True)\n"
   ]
  }
 ],
 "metadata": {
  "kernelspec": {
   "display_name": ".venv",
   "language": "python",
   "name": "python3"
  },
  "language_info": {
   "codemirror_mode": {
    "name": "ipython",
    "version": 3
   },
   "file_extension": ".py",
   "mimetype": "text/x-python",
   "name": "python",
   "nbconvert_exporter": "python",
   "pygments_lexer": "ipython3",
   "version": "3.9.6"
  }
 },
 "nbformat": 4,
 "nbformat_minor": 2
}
