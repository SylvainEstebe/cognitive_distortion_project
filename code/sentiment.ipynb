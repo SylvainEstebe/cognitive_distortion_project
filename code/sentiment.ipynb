{
 "cells": [
  {
   "cell_type": "code",
   "execution_count": 18,
   "metadata": {},
   "outputs": [],
   "source": [
    "import requests, xlrd, xlwt\n",
    "\n",
    "LANG = 'en'\n",
    "APIKEY = 'CnmK06BX3ngN5qu'\n",
    "APIURL = 'https://sentic.net/api/' + LANG + '/' + APIKEY + '.py?text='\n",
    "FILENAME = '/Users/sylvainestebe/Downloads/sdk/data'\n",
    "https://sentic.net/api/"
   ]
  },
  {
   "cell_type": "markdown",
   "metadata": {},
   "source": [
    "4Qep4rNPmbLJf, #concept parsing\n",
    "6YEtMN5u61me3G, #subjectivity detection\n",
    "aOW6R5p0lHxU2Ta, #polarity classification\n",
    "VNmEQp1n7s3R8X, #intensity ranking\n",
    "TL603m0osYN, #emotion recognition\n",
    "GiJfa4o74b58rdmYKV, #aspect extraction\n",
    "BM6Ap3rUbEZMicN, #personality prediction\n",
    "nZuABXMG54rcDB8ca0J, #sarcasm identification\n",
    "sI6YbSQd3p1wPl, #depression categorization\n",
    "zRbWnt1t0xLdhEL4f, #toxicity spotting\n",
    "CnmK06BX3ngN5qu, #engagement measurement\n",
    "znGHXVO9w3lqz4tVIKe, #well-being assessment"
   ]
  },
  {
   "cell_type": "code",
   "execution_count": 19,
   "metadata": {},
   "outputs": [
    {
     "name": "stdout",
     "output_type": "stream",
     "text": [
      "I love the movie which you hate: 33%\n",
      "You are making fun of me: -34%\n",
      "It was damn good despite the horrible music: 66%\n",
      "You are not so beautiful: 0%\n",
      "The serial killer has been shot dead: 33%\n",
      "I am one of the least happy people in the world: 0%\n",
      "It could be worse: 33%\n",
      "I doubt that he is good: -17%\n",
      "I couldn't ask for more: -34%\n",
      "I love Starbucks but they just lost a customer: -34%\n"
     ]
    }
   ],
   "source": [
    "\n",
    "wb = xlrd.open_workbook(FILENAME + '.xls')\n",
    "sheet = wb.sheet_by_index(0)\n",
    "new_wb = xlwt.Workbook(style_compression=2)\n",
    "new_sheet = new_wb.add_sheet('labeled')\n",
    "\n",
    "count = 0\n",
    "for row in range(sheet.nrows):\n",
    "    text = sheet.cell_value(row, 0)\n",
    "    for c in [';', '&', '#', '{', '}']: text = text.replace(c, ':')\n",
    "    label = str(requests.get(APIURL + text).content)[2:-3]\n",
    "    new_sheet.write(count, 0, text)\n",
    "    if label == 'NEGATIVE': \n",
    "        new_sheet.write(count, 1, label, xlwt.easyxf('font: color red; align: horiz center'))\n",
    "        print(text + ': \\033[91m' + label + '\\033[0;0m')\n",
    "    elif label == 'POSITIVE':\n",
    "        new_sheet.write(count, 1, label, xlwt.easyxf('font: color green; align: horiz center'))\n",
    "        print(text + ': \\033[92m' + label + '\\033[0;0m')\n",
    "    else:\n",
    "        new_sheet.write(count, 1, label, xlwt.easyxf('align: horiz center'))\n",
    "        print(text + ': ' + label)\n",
    "    count += 1\n",
    "    \n",
    "new_wb.save(FILENAME + '_labeled.xls')"
   ]
  }
 ],
 "metadata": {
  "kernelspec": {
   "display_name": ".venv",
   "language": "python",
   "name": "python3"
  },
  "language_info": {
   "codemirror_mode": {
    "name": "ipython",
    "version": 3
   },
   "file_extension": ".py",
   "mimetype": "text/x-python",
   "name": "python",
   "nbconvert_exporter": "python",
   "pygments_lexer": "ipython3",
   "version": "3.9.6"
  }
 },
 "nbformat": 4,
 "nbformat_minor": 2
}
